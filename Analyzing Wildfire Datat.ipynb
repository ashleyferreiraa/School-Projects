{
  "nbformat": 4,
  "nbformat_minor": 0,
  "metadata": {
    "kernelspec": {
      "display_name": "Python 3.8.5 64-bit",
      "language": "python",
      "name": "python38564bit4963913491384e6e8a6a0ebd4048b706"
    },
    "language_info": {
      "name": "python",
      "version": "3.8.5-final",
      "mimetype": "text/x-python",
      "codemirror_mode": {
        "name": "ipython",
        "version": 3
      },
      "pygments_lexer": "ipython3",
      "nbconvert_exporter": "python",
      "file_extension": ".py"
    },
    "nteract": {
      "version": "0.25.0"
    },
    "varInspector": {
      "cols": {
        "lenName": 16,
        "lenType": 16,
        "lenVar": 40
      },
      "kernels_config": {
        "python": {
          "delete_cmd_postfix": "",
          "delete_cmd_prefix": "del ",
          "library": "var_list.py",
          "varRefreshCmd": "print(var_dic_list())"
        },
        "r": {
          "delete_cmd_postfix": ") ",
          "delete_cmd_prefix": "rm(",
          "library": "var_list.r",
          "varRefreshCmd": "cat(var_dic_list()) "
        }
      },
      "types_to_exclude": [
        "module",
        "function",
        "builtin_function_or_method",
        "instance",
        "_Feature"
      ],
      "window_display": false
    },
    "colab": {
      "provenance": []
    }
  },
  "cells": [
    {
      "cell_type": "markdown",
      "metadata": {
        "collapsed": false,
        "id": "TX_-QfCapg5r"
      },
      "source": [
        "## Analyzing Wildfire Data: Insights and Patterns from Burn Area, Weather, and Seasonal Trends  \n",
        "### Assignment \n"
      ]
    },
    {
      "cell_type": "markdown",
      "metadata": {
        "collapsed": false,
        "id": "U8IqCJzxpg5t"
      },
      "source": [
        "*****\n",
        "This project involves exploring a dataset related to wildfires and extracting meaningful insights by answering a series of analytical questions. The primary focus is on identifying patterns in fire occurrence, weather conditions, and seasonal trends. \n",
        "*****\n",
        "\n"
      ]
    },
    {
      "cell_type": "markdown",
      "source": [
        "### Preparation\n",
        "\n",
        "The dataset is related to Forest Fires. For more info: https://archive.ics.uci.edu/ml/datasets/forest+fires"
      ],
      "metadata": {
        "id": "OE4FoDBm-ULU"
      }
    },
    {
      "cell_type": "code",
      "metadata": {
        "id": "I6UpceuN_dle"
      },
      "source": [
        "import pandas as pd\n",
        "import matplotlib.pyplot as plt\n",
        "import numpy as np"
      ],
      "execution_count": 3,
      "outputs": []
    },
    {
      "cell_type": "markdown",
      "source": [
        "# Q1.\n",
        "\n",
        "Read the csv file from the this URL https://archive.ics.uci.edu/ml/machine-learning-databases/forest-fires/forestfires.csv. Save it to a data frame called Forest. Check the first five records. (10 points)\n",
        "[Relevant Pandas API](https://pandas.pydata.org/docs/reference/api/pandas.read_csv.html)\n"
      ],
      "metadata": {
        "id": "XaX5w73fK8HZ"
      }
    },
    {
      "cell_type": "code",
      "source": [
        "url = 'https://archive.ics.uci.edu/ml/machine-learning-databases/forest-fires/forestfires.csv'\n",
        "Forest = pd.read_csv(url)\n",
        "print(Forest.head(5))"
      ],
      "metadata": {
        "id": "LeBUg3jMLAsG",
        "colab": {
          "base_uri": "https://localhost:8080/"
        },
        "outputId": "3dc12c20-ae0b-4021-bda4-1be15f3efcb7"
      },
      "execution_count": 4,
      "outputs": [
        {
          "output_type": "stream",
          "name": "stdout",
          "text": [
            "   X  Y month  day  FFMC   DMC     DC  ISI  temp  RH  wind  rain  area\n",
            "0  7  5   mar  fri  86.2  26.2   94.3  5.1   8.2  51   6.7   0.0   0.0\n",
            "1  7  4   oct  tue  90.6  35.4  669.1  6.7  18.0  33   0.9   0.0   0.0\n",
            "2  7  4   oct  sat  90.6  43.7  686.9  6.7  14.6  33   1.3   0.0   0.0\n",
            "3  8  6   mar  fri  91.7  33.3   77.5  9.0   8.3  97   4.0   0.2   0.0\n",
            "4  8  6   mar  sun  89.3  51.3  102.2  9.6  11.4  99   1.8   0.0   0.0\n"
          ]
        }
      ]
    },
    {
      "cell_type": "markdown",
      "source": [
        "# Q2.\n",
        "How many observations are there in the dataset? How many observations are there with both a significant fire (burned area > 0) and rain? (10 points) [Relevent API1](https://pandas.pydata.org/pandas-docs/version/0.23/generated/pandas.DataFrame.shape.html) , [Relevant Pandas API 2](https://pandas.pydata.org/docs/getting_started/intro_tutorials/03_subset_data.html#)"
      ],
      "metadata": {
        "id": "WHeMpY0-LS7i"
      }
    },
    {
      "cell_type": "code",
      "source": [
        "# observations in the dataset\n",
        "total_observations = Forest.shape[0]\n",
        "print(\"Total number of observations:\", total_observations)\n",
        "\n",
        "\n",
        "# observations with both a signification fire (burned area > 0) and rain\n",
        "\n",
        "#Step 1: Filter rows where the burned area is greater than 0 and there is rain\n",
        "filtered_data = Forest[(Forest['area'] > 0) & (Forest['rain'] > 0)]\n",
        "\n",
        "#Step2: Count the number of observations in the filtered data\n",
        "filtered_observations = len(filtered_data)\n",
        "print(\"Number of observations with both a significant fire and rain:\", filtered_observations)"
      ],
      "metadata": {
        "id": "hTabQVd2BRdm",
        "colab": {
          "base_uri": "https://localhost:8080/"
        },
        "outputId": "12445ccf-cedc-48e6-ef75-58a59158da58"
      },
      "execution_count": 5,
      "outputs": [
        {
          "output_type": "stream",
          "name": "stdout",
          "text": [
            "Total number of observations: 517\n",
            "Number of observations with both a significant fire and rain: 2\n"
          ]
        }
      ]
    },
    {
      "cell_type": "markdown",
      "source": [
        "# Q3.\n",
        "Show the columns month, day, area of all the observations with a significant fire (burned area >0 ). (10 points) [Relevant Pandas API](https://pandas.pydata.org/docs/reference/api/pandas.DataFrame.loc.html)"
      ],
      "metadata": {
        "id": "IDRxMGfWLg_O"
      }
    },
    {
      "cell_type": "code",
      "source": [
        "filtered_data2= Forest.loc[(Forest['area'] > 0), ['month', 'day', 'area']]\n",
        "print(filtered_data2)"
      ],
      "metadata": {
        "id": "afEiTeRTLqOc",
        "colab": {
          "base_uri": "https://localhost:8080/"
        },
        "outputId": "c1725bc4-9c77-4b33-cb77-8d8ddeab8e06"
      },
      "execution_count": 9,
      "outputs": [
        {
          "output_type": "stream",
          "name": "stdout",
          "text": [
            "    month  day   area\n",
            "138   jul  tue   0.36\n",
            "139   sep  tue   0.43\n",
            "140   sep  mon   0.47\n",
            "141   aug  wed   0.55\n",
            "142   aug  fri   0.61\n",
            "..    ...  ...    ...\n",
            "509   aug  fri   2.17\n",
            "510   aug  fri   0.43\n",
            "512   aug  sun   6.44\n",
            "513   aug  sun  54.29\n",
            "514   aug  sun  11.16\n",
            "\n",
            "[270 rows x 3 columns]\n"
          ]
        }
      ]
    },
    {
      "cell_type": "markdown",
      "source": [
        "# Q4.\n",
        "How large are the five largest fires (i.e. having largest area)? (10 points) [Relevant API](https://pandas.pydata.org/docs/reference/api/pandas.DataFrame.sort_values.html)"
      ],
      "metadata": {
        "id": "XrNuWHNOMq5p"
      }
    },
    {
      "cell_type": "code",
      "source": [
        "largest_fires = Forest.sort_values(by='area', ascending=False)\n",
        "top_five_largest_fires = largest_fires.head(5)\n",
        "print(top_five_largest_fires)"
      ],
      "metadata": {
        "id": "k8iFRuVMM1AI",
        "colab": {
          "base_uri": "https://localhost:8080/"
        },
        "outputId": "55cec630-3135-47a1-8f3b-25815f8b02d1"
      },
      "execution_count": 4,
      "outputs": [
        {
          "output_type": "stream",
          "name": "stdout",
          "text": [
            "     X  Y month  day  FFMC    DMC     DC   ISI  temp  RH  wind  rain     area\n",
            "238  6  5   sep  sat  92.5  121.1  674.4   8.6  25.1  27   4.0   0.0  1090.84\n",
            "415  8  6   aug  thu  94.8  222.4  698.6  13.9  27.5  27   4.9   0.0   746.28\n",
            "479  7  4   jul  mon  89.2  103.9  431.6   6.4  22.6  57   4.9   0.0   278.53\n",
            "237  1  2   sep  tue  91.0  129.5  692.6   7.0  18.8  40   2.2   0.0   212.88\n",
            "236  2  2   sep  sat  92.5  121.1  674.4   8.6  18.2  46   1.8   0.0   200.94\n"
          ]
        }
      ]
    },
    {
      "cell_type": "markdown",
      "source": [
        "# Q5.\n",
        "For the records you obtained from the previous question, what are the corresponding month, temp, RH, wind, rain, area? (10 points)"
      ],
      "metadata": {
        "id": "3brpNkeAM9r_"
      }
    },
    {
      "cell_type": "code",
      "source": [
        "top_five_largest_fires2= top_five_largest_fires[['month','temp', 'RH', 'wind','rain', 'area']]\n",
        "print(top_five_largest_fires2)"
      ],
      "metadata": {
        "id": "P0HxQEC5NHG9",
        "colab": {
          "base_uri": "https://localhost:8080/"
        },
        "outputId": "5329bae2-4e33-46e0-c0d0-ad528699f10f"
      },
      "execution_count": 7,
      "outputs": [
        {
          "output_type": "stream",
          "name": "stdout",
          "text": [
            "    month  temp  RH  wind  rain     area\n",
            "238   sep  25.1  27   4.0   0.0  1090.84\n",
            "415   aug  27.5  27   4.9   0.0   746.28\n",
            "479   jul  22.6  57   4.9   0.0   278.53\n",
            "237   sep  18.8  40   2.2   0.0   212.88\n",
            "236   sep  18.2  46   1.8   0.0   200.94\n"
          ]
        }
      ]
    },
    {
      "cell_type": "markdown",
      "source": [
        "# Q6.\n",
        "For the whole dataset, reorder factor levels of month to be from Jan to Dec. (10 points)"
      ],
      "metadata": {
        "id": "o4UaGldlNy5w"
      }
    },
    {
      "cell_type": "code",
      "source": [
        "\n",
        "# Step 1: Create a list of month names in order\n",
        "months_order= ['jan', 'feb', 'mar', 'apr', 'may', 'jun', 'jul', 'aug', 'sep', 'oct', 'nov', 'dec']\n",
        "\n",
        "#step 2: Convert the 'month' column to a categorical type\n",
        "Forest['month'] = pd.Categorical(Forest['month'], categories=months_order, ordered=True)\n",
        "print(Forest['month'].head())"
      ],
      "metadata": {
        "id": "rZvskgbfN0x2",
        "colab": {
          "base_uri": "https://localhost:8080/"
        },
        "outputId": "dcb134f7-b301-4d08-b8fa-9c2b9210deae"
      },
      "execution_count": 6,
      "outputs": [
        {
          "output_type": "stream",
          "name": "stdout",
          "text": [
            "0    mar\n",
            "1    oct\n",
            "2    oct\n",
            "3    mar\n",
            "4    mar\n",
            "Name: month, dtype: category\n",
            "Categories (12, object): ['jan' < 'feb' < 'mar' < 'apr' ... 'sep' < 'oct' < 'nov' < 'dec']\n"
          ]
        }
      ]
    },
    {
      "cell_type": "markdown",
      "source": [
        "# Q7.\n",
        "Add one column to the data indicating whether a fire occurred for each observation ('TRUE' for area>0 and 'FALSE' for area==0). (10 points)"
      ],
      "metadata": {
        "id": "bqIvFCPgNF-_"
      }
    },
    {
      "cell_type": "code",
      "source": [
        "\n",
        "#METHOD 1:\n",
        "New_Forest_Data= Forest.copy()\n",
        "New_Forest_Data['Fire_Occurred'] = New_Forest_Data['area'].apply(lambda x: 'TRUE' if x > 0 else 'FALSE')\n",
        "print(New_Forest_Data.head())\n"
      ],
      "metadata": {
        "id": "vfjm8H5COteH",
        "colab": {
          "base_uri": "https://localhost:8080/"
        },
        "outputId": "1339cb5f-9799-4dfc-ab2f-4e07c3072b31"
      },
      "execution_count": 7,
      "outputs": [
        {
          "output_type": "stream",
          "name": "stdout",
          "text": [
            "   X  Y month  day  FFMC   DMC     DC  ISI  temp  RH  wind  rain  area  \\\n",
            "0  7  5   mar  fri  86.2  26.2   94.3  5.1   8.2  51   6.7   0.0   0.0   \n",
            "1  7  4   oct  tue  90.6  35.4  669.1  6.7  18.0  33   0.9   0.0   0.0   \n",
            "2  7  4   oct  sat  90.6  43.7  686.9  6.7  14.6  33   1.3   0.0   0.0   \n",
            "3  8  6   mar  fri  91.7  33.3   77.5  9.0   8.3  97   4.0   0.2   0.0   \n",
            "4  8  6   mar  sun  89.3  51.3  102.2  9.6  11.4  99   1.8   0.0   0.0   \n",
            "\n",
            "  Fire_Occurred  \n",
            "0         FALSE  \n",
            "1         FALSE  \n",
            "2         FALSE  \n",
            "3         FALSE  \n",
            "4         FALSE  \n"
          ]
        }
      ]
    },
    {
      "cell_type": "code",
      "source": [
        "#METHOD 2\n",
        "# Setp 1: Add a new column\n",
        "Forest['fire_occurred'] = Forest['area'] > 0\n",
        "\n",
        "#step2: convert added coloumn to string\n",
        "Forest['fire_occurred']= Forest['fire_occurred'].astype(str)\n",
        "\n",
        "#step3: Replace 'True' with 'TRUE' and 'False' with 'FALSE'\n",
        "Forest['fire_occurred'] = Forest['fire_occurred'].str.upper()\n",
        "print(Forest.head())"
      ],
      "metadata": {
        "colab": {
          "base_uri": "https://localhost:8080/"
        },
        "id": "eQWihEKc4qmx",
        "outputId": "f9947106-51fe-4368-e875-c89df31382a4"
      },
      "execution_count": 10,
      "outputs": [
        {
          "output_type": "stream",
          "name": "stdout",
          "text": [
            "   X  Y month  day  FFMC   DMC     DC  ISI  temp  RH  wind  rain  area  \\\n",
            "0  7  5   mar  fri  86.2  26.2   94.3  5.1   8.2  51   6.7   0.0   0.0   \n",
            "1  7  4   oct  tue  90.6  35.4  669.1  6.7  18.0  33   0.9   0.0   0.0   \n",
            "2  7  4   oct  sat  90.6  43.7  686.9  6.7  14.6  33   1.3   0.0   0.0   \n",
            "3  8  6   mar  fri  91.7  33.3   77.5  9.0   8.3  97   4.0   0.2   0.0   \n",
            "4  8  6   mar  sun  89.3  51.3  102.2  9.6  11.4  99   1.8   0.0   0.0   \n",
            "\n",
            "  fire_occurred  \n",
            "0         FALSE  \n",
            "1         FALSE  \n",
            "2         FALSE  \n",
            "3         FALSE  \n",
            "4         FALSE  \n"
          ]
        }
      ]
    },
    {
      "cell_type": "markdown",
      "source": [
        "# Q8.\n",
        "What is the mean area/wind/temp/RH per month? (10 points)"
      ],
      "metadata": {
        "id": "LneIVMYfPTYH"
      }
    },
    {
      "cell_type": "markdown",
      "source": [],
      "metadata": {
        "id": "D2OS3x6iX-1l"
      }
    },
    {
      "cell_type": "code",
      "source": [
        "#Step1: group data by months\n",
        "group_data= Forest.groupby('month')\n",
        "\n",
        "#MEAN OF Area/wind/temp/RH\n",
        "mean_area_per_month = group_data[['area', 'wind', 'temp', 'RH']].mean()\n",
        "print(mean_area_per_month)\n",
        "\n"
      ],
      "metadata": {
        "id": "tZHYITgvPXtS",
        "colab": {
          "base_uri": "https://localhost:8080/"
        },
        "outputId": "c1bcf912-26d8-4087-d13b-892628897053"
      },
      "execution_count": 19,
      "outputs": [
        {
          "output_type": "stream",
          "name": "stdout",
          "text": [
            "            area      wind       temp         RH\n",
            "month                                           \n",
            "jan     0.000000  2.000000   5.250000  89.000000\n",
            "feb     6.275000  3.755000   9.635000  55.700000\n",
            "mar     4.356667  4.968519  13.083333  40.000000\n",
            "apr     8.891111  4.666667  12.044444  46.888889\n",
            "may    19.240000  4.450000  14.650000  67.000000\n",
            "jun     5.841176  4.135294  20.494118  45.117647\n",
            "jul    14.369687  3.734375  22.109375  45.125000\n",
            "aug    12.489076  4.086413  21.631522  45.489130\n",
            "sep    17.942616  3.557558  19.612209  42.843023\n",
            "oct     6.638000  3.460000  17.093333  37.466667\n",
            "nov     0.000000  4.500000  11.800000  31.000000\n",
            "dec    13.330000  7.644444   4.522222  38.444444\n"
          ]
        },
        {
          "output_type": "stream",
          "name": "stderr",
          "text": [
            "<ipython-input-19-938cb6b8510f>:2: FutureWarning: The default of observed=False is deprecated and will be changed to True in a future version of pandas. Pass observed=False to retain current behavior or observed=True to adopt the future default and silence this warning.\n",
            "  group_data= Forest.groupby('month')\n"
          ]
        }
      ]
    },
    {
      "cell_type": "markdown",
      "source": [
        "# Q9.\n",
        "How many observations are there in each month? Visualize by using a barplot in descending order. (10 points) [Relevant API 1](https://pandas.pydata.org/docs/reference/api/pandas.Series.value_counts.html) [Relevant API  2](https://matplotlib.org/stable/api/_as_gen/matplotlib.pyplot.hist.html)"
      ],
      "metadata": {
        "id": "dBSX3xe0QcOl"
      }
    },
    {
      "cell_type": "code",
      "source": [
        "#Step1: create a df that counts the number of observations\n",
        "obserations_per_month= Forest['month'].value_counts(ascending=False)\n",
        "\n",
        "print(obserations_per_month)\n",
        "\n",
        "# Get x and y data for the bar plot\n",
        "x = obserations_per_month.index\n",
        "y = obserations_per_month.values\n",
        "\n",
        "# Create the bar plot with both x and y values\n",
        "plt.bar(x, y)\n",
        "plt.title('Number of Observations by Month')\n",
        "plt.xlabel('Month')\n",
        "plt.ylabel('Number of Observations')\n",
        "plt.show()\n"
      ],
      "metadata": {
        "colab": {
          "base_uri": "https://localhost:8080/",
          "height": 722
        },
        "id": "l4uScb8BfruL",
        "outputId": "04cf7a72-814c-42a7-e11f-7368ebd329e1"
      },
      "execution_count": 39,
      "outputs": [
        {
          "output_type": "stream",
          "name": "stdout",
          "text": [
            "month\n",
            "aug    184\n",
            "sep    172\n",
            "mar     54\n",
            "jul     32\n",
            "feb     20\n",
            "jun     17\n",
            "oct     15\n",
            "apr      9\n",
            "dec      9\n",
            "jan      2\n",
            "may      2\n",
            "nov      1\n",
            "Name: count, dtype: int64\n"
          ]
        },
        {
          "output_type": "display_data",
          "data": {
            "text/plain": [
              "<Figure size 640x480 with 1 Axes>"
            ],
            "image/png": "[encoded data removed]"
          },
          "metadata": {}
        }
      ]
    },
    {
      "cell_type": "markdown",
      "source": [
        "# Q10.\n",
        "How many observations are there with burned area greater than zero in each month? Visualize by using a barplot in descending order. (10 points)"
      ],
      "metadata": {
        "id": "aAJoou94QgGT"
      }
    },
    {
      "cell_type": "code",
      "source": [
        "#Step1: create a df where only burned area is greater than > 0\n",
        "filtered_data = Forest[Forest['area'] > 0]\n",
        "\n",
        "#Step2: create a df that counts the number of observations\n",
        "new_frame= filtered_data['month'].value_counts(ascending=False)\n",
        "\n",
        "print(new_frame)\n",
        "\n",
        "# Get x and y data for the bar plot\n",
        "x = new_frame.index\n",
        "y = new_frame.values\n",
        "\n",
        "# Create the bar plot with both x and y values\n",
        "plt.bar(x, y)\n",
        "plt.title('Number of Observations by Month')\n",
        "plt.xlabel('Month')\n",
        "plt.ylabel('Number of Observations')\n",
        "plt.show()\n",
        "\n",
        "\n",
        ""
      ],
      "metadata": {
        "id": "Flfqh9IuQk9g",
        "colab": {
          "base_uri": "https://localhost:8080/",
          "height": 722
        },
        "outputId": "997b6011-8774-402d-8f7f-d5d1a9c300b4"
      },
      "execution_count": 42,
      "outputs": [
        {
          "output_type": "stream",
          "name": "stdout",
          "text": [
            "month\n",
            "aug    99\n",
            "sep    97\n",
            "mar    19\n",
            "jul    18\n",
            "feb    10\n",
            "dec     9\n",
            "jun     8\n",
            "oct     5\n",
            "apr     4\n",
            "may     1\n",
            "jan     0\n",
            "nov     0\n",
            "Name: count, dtype: int64\n"
          ]
        },
        {
          "output_type": "display_data",
          "data": {
            "text/plain": [
              "<Figure size 640x480 with 1 Axes>"
            ],
            "image/png": "[encoded data removed]"
          },
          "metadata": {}
        }
      ]
    },
    {
      "cell_type": "markdown",
      "source": [
        "This is the end of this Assignment \n",
        "\n",
        ""
      ],
      "metadata": {
        "id": "iIvLfsi-bz2Z"
      }
    }
  ]
}
