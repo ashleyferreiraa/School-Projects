{
  "cells": [
    {
      "cell_type": "markdown",
      "source": [
        "## CIND830 - Python Programming for Data Science  \n",
        "### Assignment 1 (15% of the final grade)\n",
        "### Due on February 19, 2024, 11:59 PM"
      ],
      "metadata": {
        "id": "kJ6ssXaGJfGN"
      }
    },
    {
      "cell_type": "markdown",
      "source": [
        "*****\n",
        "This is a Jupyter Notebook document that extends a simple formatting syntax for authoring HTML and PDF. Review [this](https://jupyter-notebook.readthedocs.io/en/stable/notebook.html) website for more details on using Jupyter Notebooks.\n",
        "\n",
        "Consider using a Jupyter Notebook platform to complete this assignment. Ensure using **Python 3.9 release or higher**, then complete the assignment by inserting your Python code wherever seeing the string <font color='green'>`#WRITE YOUR ANSWER HERE.`</font> `\n",
        "\n",
        "You are expected to submit the notebook file (in IPYNB format) and the exported version (either in PDF or HTML) in the same Assignment link in D2L. Use [these](https://www.torontomu.ca/courses/students/tutorials/assignments/) guidelines to submit **both** the IPYNB and the exported file (HTML or PDF). Failing to submit both files will be subject to mark deduction.\n",
        "\n",
        "Please be advised that you cannot get more than 100% in this assignment, and the **BONUS** question (if there is any) will only be graded if all other questions have been submitted."
      ],
      "metadata": {
        "id": "UWjXw7DsJfGP"
      }
    },
    {
      "cell_type": "markdown",
      "source": [
        "*****\n",
        "Coverage: <br>\n",
        "1. Data Types and Expressions <br>\n",
        "2. Repetition Statements <br>\n",
        "3. Selection Statements <br>\n",
        "4. Strings, Lists, Tuples and Text Files <br>\n",
        "*****"
      ],
      "metadata": {
        "id": "EAq5nq7shwbI"
      }
    },
    {
      "cell_type": "markdown",
      "source": [
        "### **Question 1 [40 pts]**:\n",
        "  \n",
        "**a)**  **[20 pts]**  Write code to reverse an integer number entered by the user, and to give the square root of the reversed number. For example, if the user enters `144`, the output should be `441` and `21.0` (output on separate lines).  \n",
        "\n",
        "**Note that** the program should not use the `[::-1]` method to reverse a number or string."
      ],
      "metadata": {
        "id": "2BcANmbiojEP"
      }
    },
    {
      "cell_type": "code",
      "source": [
        "# WRITE YOUR ANSWER HERE\n",
        "\n",
        "number = int(input(\"Enter an integer: \"))\n",
        "revs_number= 0\n",
        "while number > 0:\n",
        "  remainder = number % 10\n",
        "  revs_number = (revs_number * 10) + remainder\n",
        "  number = number // 10\n",
        "print(\"The reversed number is:\", revs_number)"
      ],
      "outputs": [
        {
          "output_type": "stream",
          "name": "stdout",
          "text": [
            "Enter an integer: 569\n",
            "The reversed number is: 965\n"
          ]
        }
      ],
      "execution_count": null,
      "metadata": {
        "id": "eDzEZnZAotKS",
        "execution": {
          "shell.execute_reply": "2024-01-15T22:39:38.779Z",
          "iopub.status.busy": "2024-01-15T22:39:38.849Z",
          "iopub.execute_input": "2024-01-15T22:39:38.855Z",
          "iopub.status.idle": "2024-01-15T22:39:38.862Z"
        },
        "colab": {
          "base_uri": "https://localhost:8080/"
        },
        "outputId": "eacf0b2d-64db-4641-bcc5-56a7fbdf4cbf"
      }
    },
    {
      "cell_type": "markdown",
      "source": [
        "**b)**  **[20 pts]** There exists a property called **Reversible Square Root** for certain numbers. These numbers are such that when you square them, then reverse the resulting digits, take the square root of that number and reverse the digits again, the result is the same as the original number.\n",
        "\n",
        "  \n",
        "For example, the number 12 is a Reversible Square Root number because if you square it ($12^{2}$=144), reverse the digits of the result (which gives 441), take the square root of 441 (which is $\\sqrt{441}$=21), and reverse the digits again, you get 12.\n",
        "\n",
        "\n",
        "Write a program to find all the Reversible Square Root numbers between 1 and 5000, inclusively. The program should display these numbers on the same line, separated by a comma. The last number should not have a comma following it.\n",
        "\n",
        "**Note that** the program should not use the `[::-1]` method to reverse a number or string."
      ],
      "metadata": {
        "id": "CXJxi2Ozo_ri"
      }
    },
    {
      "cell_type": "code",
      "source": [
        "import math\n",
        "\n",
        "# Define function to reverse the digits of a number without using [::-1]\n",
        "def reverse_number(n):\n",
        "    reversed_num = 0\n",
        "    while n > 0:\n",
        "        remainder = n % 10\n",
        "        reversed_num = (reversed_num * 10) + remainder\n",
        "        n = n // 10\n",
        "    return reversed_num\n",
        "\n",
        "# define function to find Reversible Square Root numbers\n",
        "def find_reversible_square_root_numbers():\n",
        "    reversible_numbers = []\n",
        "\n",
        "    # Iterate through numbers from 1 to 5000\n",
        "    for num in range(1, 5001):\n",
        "        squared = num * num  # Square the number\n",
        "        reversed_squared = reverse_number(squared)  # Reverse the digits of the squared result\n",
        "\n",
        "        # Check if reversed squared result is a perfect square\n",
        "        sqrt_reversed = math.isqrt(reversed_squared)\n",
        "\n",
        "        if sqrt_reversed * sqrt_reversed == reversed_squared:\n",
        "            reversed_sqrt = reverse_number(sqrt_reversed)  # if it's a perfect square, reverse the digits\n",
        "\n",
        "        #check if reversed square root = original numbrt\n",
        "            if reversed_sqrt == num:\n",
        "                reversible_numbers.append(num)\n",
        "\n",
        "    # Print the numbers in the required format\n",
        "    print(', '.join(map(str, reversible_numbers)))\n",
        "\n",
        "\n",
        "# Call the function\n",
        "find_reversible_square_root_numbers()\n",
        "\n",
        "\n",
        "\n"
      ],
      "metadata": {
        "colab": {
          "base_uri": "https://localhost:8080/"
        },
        "id": "F88AJCUIw_s-",
        "outputId": "18c51dfa-e2d1-4919-a99b-95fb418b7747"
      },
      "execution_count": null,
      "outputs": [
        {
          "output_type": "stream",
          "name": "stdout",
          "text": [
            "1, 2, 3, 11, 12, 13, 21, 22, 31, 101, 102, 103, 111, 112, 113, 121, 122, 201, 202, 211, 212, 221, 301, 311, 1001, 1002, 1003, 1011, 1012, 1013, 1021, 1022, 1031, 1101, 1102, 1103, 1111, 1112, 1113, 1121, 1122, 1201, 1202, 1211, 1212, 1301, 2001, 2002, 2011, 2012, 2021, 2022, 2101, 2102, 2111, 2121, 2201, 2202, 2211, 3001, 3011, 3101, 3111\n"
          ]
        }
      ]
    },
    {
      "cell_type": "code",
      "source": [
        "2*2"
      ],
      "metadata": {
        "colab": {
          "base_uri": "https://localhost:8080/"
        },
        "id": "QWJJQAEMt_k0",
        "outputId": "52d31b22-90c5-4be1-ce0f-481043eea799"
      },
      "execution_count": null,
      "outputs": [
        {
          "output_type": "execute_result",
          "data": {
            "text/plain": [
              "4"
            ]
          },
          "metadata": {},
          "execution_count": 6
        }
      ]
    },
    {
      "cell_type": "markdown",
      "source": [
        "*****"
      ],
      "metadata": {
        "id": "ykPO8lAcazKV"
      }
    },
    {
      "cell_type": "markdown",
      "source": [
        "### **Question 2  [40 pts]**:\n",
        "\n",
        "\n",
        "Create a text file named `books.txt`. Each line in this file represents a book with its title and price, separated by a comma. For example:\n",
        "```\n",
        "  \"Python Data Science Handbook, $82.61\",\n",
        "  \"Automate the Boring Stuff with Python, $59.99\",\n",
        "  \"Python for Data Analysis, $107.25\",\n",
        "  \"Think Python, $65.69\",\n",
        "  \"Fluent Python, $98.53\",\n",
        "  \"Effective Python, $62.18\",\n",
        "  \"Learning Python, $49.99\",\n",
        "  \"Python Crash Course, $65.99\",\n",
        "  \"Introduction to Machine Learning with Python, $80.43\",\n",
        "  \"Data Science from Scratch, $88.48\"\n",
        "```\n",
        "\n",
        "**Guidelines and Hints**\n",
        "- Use string methods for parsing data.\n",
        "- Utilize lists to store and manipulate book data.\n",
        "- Implement loops for iterating over the list of books.\n",
        "- Apply conditional statements to perform checks and comparisons.\n",
        "- Remember to close the file after reading or writing."
      ],
      "metadata": {
        "id": "GEYuQ9X455W2"
      }
    },
    {
      "cell_type": "markdown",
      "source": [
        "**a- [8 pts]**\n",
        "\n",
        "1. Write a Python script to open books.txt.\n",
        "2. Read each line of the file.\n",
        "3. Split each line into the book title and its price.\n",
        "4. Store these in a list of tuples, where each tuple contains the title and price of a book.\n",
        "\n",
        "\n",
        "\n"
      ],
      "metadata": {
        "id": "0ZWQVaMF8u_X"
      }
    },
    {
      "cell_type": "code",
      "source": [
        "# create text file\n",
        "textFile = open(\"books.txt\", \"w\")\n",
        "textFile.write(\"\"\"Python Data Science Handbook, $82.61\n",
        "Automate the Boring Stuff with Python, $59.99\n",
        "Python for Data Analysis, $107.25\n",
        "Think Python, $65.69\n",
        "Fluent Python, $98.53\n",
        "Effective Python, $62.18\n",
        "Learning Python, $49.99\n",
        "Python Crash Course, $65.99\n",
        "Introduction to Machine Learning with Python, $80.43\n",
        "Data Science from Scratch, $88.48\"\"\")\n",
        "textFile.close()\n",
        "\n",
        "# open text file & read each line of the file\n",
        "textFile = open(\"books.txt\", \"r\")\n",
        "contentsData = textFile.readlines()\n",
        "\n",
        "# create a list of tuples for book titles and prices\n",
        "books = []\n",
        "book_title =[]\n",
        "book_price = []\n",
        "\n",
        "#split the title and price of book\n",
        "for line in contentsData:\n",
        "    title, price = line.strip().rsplit(\", $\", 1)\n",
        "    price = float(price)\n",
        "    books.append((title, price))\n",
        "    book_title.append(title)\n",
        "    book_price.append(price)\n",
        "\n",
        "textFile.close()\n",
        "\n",
        "# print the list of tuples\n",
        "print(books)\n"
      ],
      "outputs": [
        {
          "output_type": "stream",
          "name": "stdout",
          "text": [
            "[('Python Data Science Handbook', 82.61), ('Automate the Boring Stuff with Python', 59.99), ('Python for Data Analysis', 107.25), ('Think Python', 65.69), ('Fluent Python', 98.53), ('Effective Python', 62.18), ('Learning Python', 49.99), ('Python Crash Course', 65.99), ('Introduction to Machine Learning with Python', 80.43), ('Data Science from Scratch', 88.48)]\n"
          ]
        }
      ],
      "execution_count": 2,
      "metadata": {
        "id": "NIIw7Ia98ixk",
        "execution": {
          "shell.execute_reply": "2024-01-15T22:39:38.796Z",
          "iopub.status.busy": "2024-01-15T22:39:38.894Z",
          "iopub.execute_input": "2024-01-15T22:39:38.900Z",
          "iopub.status.idle": "2024-01-15T22:39:38.907Z"
        },
        "colab": {
          "base_uri": "https://localhost:8080/"
        },
        "outputId": "3d776e0f-84a4-42e0-e080-654b175415e8"
      }
    },
    {
      "cell_type": "markdown",
      "source": [
        "**b-  [32 pts]**\n",
        "\n",
        "Each of the following questions should be addressed in a separate Python script.\n",
        "\n",
        "1. Inventory Summary\n",
        "- How many books are in the inventory?\n",
        "- What is the total value of the inventory?\n",
        "\n",
        "2. Pricing Analysis\n",
        "- What is the average price of a book?\n",
        "- List all books priced above the average price.\n",
        "\n",
        "3. Search and Selection\n",
        "- Find and display the title of the most expensive book.\n",
        "- Display all books with a title containing the word \"The\".\n",
        "\n",
        "4. Data Manipulation\n",
        "- Increase the price of all books by 10%.\n",
        "- Create a new file updated_books.txt with the updated prices."
      ],
      "metadata": {
        "id": "MOn80_FW91hY"
      }
    },
    {
      "cell_type": "code",
      "source": [
        "# Count the number of books\n",
        "count_of_books = len(book_title)\n",
        "print(\"The number of books:\", count_of_books)\n",
        "\n",
        "# Calculate the total value of the inventory\n",
        "total_value = sum(book_price)\n",
        "print(\"The total value of the inventory:\", total_value)"
      ],
      "outputs": [
        {
          "output_type": "stream",
          "name": "stdout",
          "text": [
            "The number of books: 10\n",
            "The total value of the inventory: 761.1399999999999\n"
          ]
        }
      ],
      "execution_count": 3,
      "metadata": {
        "id": "w4muS3ZJ90qO",
        "execution": {
          "shell.execute_reply": "2024-01-15T22:39:38.804Z",
          "iopub.status.busy": "2024-01-15T22:39:38.916Z",
          "iopub.execute_input": "2024-01-15T22:39:38.921Z",
          "iopub.status.idle": "2024-01-15T22:39:38.928Z"
        },
        "colab": {
          "base_uri": "https://localhost:8080/"
        },
        "outputId": "3c6ab1aa-5644-435e-a552-19b519d62acd"
      }
    },
    {
      "cell_type": "code",
      "source": [
        "# Calculate the average price of a book\n",
        "average_price = total_value / count_of_books\n",
        "print(\"The average price of a book:\", average_price)\n",
        "\n",
        "# Find books priced above the average\n",
        "\n",
        "books_above_average = [book for book in books if book[1] > average_price]\n",
        "print(\"Books priced above the average:\")\n",
        "for book in books_above_average:\n",
        "    print(book[0] + \" - $\" + str(book[1]))\n",
        "\n"
      ],
      "outputs": [
        {
          "output_type": "stream",
          "name": "stdout",
          "text": [
            "The average price of a book: 76.11399999999999\n",
            "Books priced above the average:\n",
            "Python Data Science Handbook - $82.61\n",
            "Python for Data Analysis - $107.25\n",
            "Fluent Python - $98.53\n",
            "Introduction to Machine Learning with Python - $80.43\n",
            "Data Science from Scratch - $88.48\n"
          ]
        }
      ],
      "execution_count": 4,
      "metadata": {
        "id": "m0WGmqyWLFXn",
        "execution": {
          "shell.execute_reply": "2024-01-15T22:39:38.811Z",
          "iopub.status.busy": "2024-01-15T22:39:38.936Z",
          "iopub.execute_input": "2024-01-15T22:39:38.942Z",
          "iopub.status.idle": "2024-01-15T22:39:38.948Z"
        },
        "colab": {
          "base_uri": "https://localhost:8080/"
        },
        "outputId": "e46b1d29-e4ec-4142-86d7-8488b6de164f"
      }
    },
    {
      "cell_type": "code",
      "source": [
        "# Find the most expensive book\n",
        "most_expensive_book = max(books, key=lambda item: item[1])\n",
        "print(\"The most expensive book is:\", most_expensive_book)\n",
        "\n",
        "# Find books with 'The' in the title\n",
        "books_with_the = [book for book in books if 'The' in book[0]]\n",
        "if books_with_the == []:\n",
        "  print(\"No books with 'The' in the title\")\n",
        "else:\n",
        "  print(\"Books with 'The' in the title:\")\n",
        "\n",
        "\n"
      ],
      "outputs": [
        {
          "output_type": "stream",
          "name": "stdout",
          "text": [
            "The most expensive book is: ('Python for Data Analysis', 107.25)\n",
            "No books with 'The' in the title\n"
          ]
        }
      ],
      "execution_count": 18,
      "metadata": {
        "id": "kY7ZTt7LLJCh",
        "execution": {
          "shell.execute_reply": "2024-01-15T22:39:38.820Z",
          "iopub.status.busy": "2024-01-15T22:39:38.955Z",
          "iopub.execute_input": "2024-01-15T22:39:38.961Z",
          "iopub.status.idle": "2024-01-15T22:39:38.968Z"
        },
        "colab": {
          "base_uri": "https://localhost:8080/"
        },
        "outputId": "7994c628-80c9-4b03-8ce8-61f19b5c178d"
      }
    },
    {
      "cell_type": "code",
      "source": [
        "# Increase the price of all books by 10%\n",
        "increase_price= 1.1\n",
        "new_price = [[book[0], book[1] * increase_price] for book in books]\n",
        "print(new_price)\n",
        "\n",
        "\n",
        "# Write the updated prices to a new file\n",
        "updated_prices = open(\"updated_books.txt\", \"w\")\n",
        "for book in new_price:\n",
        "    updated_prices.write(book[0] + \" - $\" + str(book[1]) + \"\\n\")\n",
        "updated_prices.close()"
      ],
      "outputs": [
        {
          "output_type": "stream",
          "name": "stdout",
          "text": [
            "[['Python Data Science Handbook', 90.87100000000001], ['Automate the Boring Stuff with Python', 65.989], ['Python for Data Analysis', 117.97500000000001], ['Think Python', 72.259], ['Fluent Python', 108.38300000000001], ['Effective Python', 68.39800000000001], ['Learning Python', 54.989000000000004], ['Python Crash Course', 72.589], ['Introduction to Machine Learning with Python', 88.47300000000001], ['Data Science from Scratch', 97.32800000000002]]\n"
          ]
        }
      ],
      "execution_count": 27,
      "metadata": {
        "id": "bSCs6HG3LMjR",
        "execution": {
          "shell.execute_reply": "2024-01-15T22:39:38.830Z",
          "iopub.status.busy": "2024-01-15T22:39:38.978Z",
          "iopub.execute_input": "2024-01-15T22:39:38.983Z",
          "iopub.status.idle": "2024-01-15T22:39:38.990Z"
        },
        "colab": {
          "base_uri": "https://localhost:8080/"
        },
        "outputId": "c0323fca-0e94-4cb9-d8cd-78d229c96bb4"
      }
    },
    {
      "cell_type": "markdown",
      "source": [
        "\n",
        "### **Question 3 [20 pts]**.\n",
        "\n",
        "Create a Control Flow Diagram\n",
        "\n",
        "1. Choose one of the following questions from Q2.b that you have already answered:\n",
        "  - What is the average price of a book?\n",
        "  - List all books priced above the average price.\n",
        "  - Find and display the title of the most expensive book.\n",
        "  - Display all books with a title containing the word \"The\".\n",
        "2. Using pen and paper, sketch a control flow diagram that represents the logic and flow of the Python code for the chosen question. Your diagram should include:\n",
        "  - Start and end points.\n",
        "  - Sequential steps in the process.\n",
        "  - Decision points,if any, where the flow of control depends on a condition.\n",
        "  - Arrows to indicate the flow of the program.\n",
        "3. Once your diagram is complete, take a clear photograph or scan it.\n",
        "4. Convert the image to a PNG or JPG format, if it isn't already.\n",
        "5. Upload the image file along with your Python IPYNB file when submitting your assignment."
      ],
      "metadata": {
        "id": "d7jcIV1GOqsU"
      }
    },
    {
      "cell_type": "markdown",
      "source": [
        "*****\n"
      ],
      "metadata": {
        "id": "jPrZqSxgSWNr"
      }
    },
    {
      "cell_type": "markdown",
      "source": [
        "#### This is the end of assignment 1\n",
        "\n",
        "\n",
        "\n",
        "\n"
      ],
      "metadata": {
        "id": "rtC6fqdFNkdO"
      }
    }
  ],
  "metadata": {
    "colab": {
      "provenance": [],
      "collapsed_sections": [
        "rtC6fqdFNkdO"
      ]
    },
    "kernelspec": {
      "display_name": "Python 3",
      "language": "python",
      "name": "python3"
    },
    "language_info": {
      "name": "python",
      "version": "3.10.10",
      "mimetype": "text/x-python",
      "codemirror_mode": {
        "name": "ipython",
        "version": 3
      },
      "pygments_lexer": "ipython3",
      "nbconvert_exporter": "python",
      "file_extension": ".py"
    },
    "nteract": {
      "version": "0.28.0"
    },
    "varInspector": {
      "cols": {
        "lenName": 16,
        "lenType": 16,
        "lenVar": 40
      },
      "kernels_config": {
        "python": {
          "delete_cmd_postfix": "",
          "delete_cmd_prefix": "del ",
          "library": "var_list.py",
          "varRefreshCmd": "print(var_dic_list())"
        },
        "r": {
          "delete_cmd_postfix": ") ",
          "delete_cmd_prefix": "rm(",
          "library": "var_list.r",
          "varRefreshCmd": "cat(var_dic_list()) "
        }
      },
      "types_to_exclude": [
        "module",
        "function",
        "builtin_function_or_method",
        "instance",
        "_Feature"
      ],
      "window_display": false
    }
  },
  "nbformat": 4,
  "nbformat_minor": 0
}